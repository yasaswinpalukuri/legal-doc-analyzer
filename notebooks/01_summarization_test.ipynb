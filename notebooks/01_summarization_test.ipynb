{
 "cells": [
  {
   "cell_type": "code",
   "execution_count": 2,
   "id": "e85a0514",
   "metadata": {},
   "outputs": [
    {
     "name": "stderr",
     "output_type": "stream",
     "text": [
      "Device set to use cpu\n"
     ]
    },
    {
     "name": "stdout",
     "output_type": "stream",
     "text": [
      "Original: SECTION 1. LIABILITY OF BUSINESS ENTITIES PROVIDING USE OF FACILITIES \n",
      "              TO NONPROFIT ORGANIZATIONS.\n",
      "\n",
      "    (a) Definitions.--In this section:\n",
      "            (1) Business entity.--The term ``business entity'' means a \n",
      "        firm, corporation, association, partnership, consortium, joint \n",
      "        venture, or other form of enterprise.\n",
      "            (2) Facility.--The term ``facility'' means any real \n",
      "        property, including any building, improvement, or appurtenance.\n",
      "            (3) Gros \n",
      "---\n",
      "Summary: Liability of businesses providing use of facilities to non-profit organizations. Business entities include a firm, corporation, association, partnership, consortium, joint venture, or other form of enterprise. Gross negligence means voluntary and conscious conduct.\n"
     ]
    }
   ],
   "source": [
    "from transformers import pipeline\n",
    "import json\n",
    "\n",
    "# Load the summarization pipeline\n",
    "summarizer = pipeline(\"summarization\", model=\"facebook/bart-large-cnn\")\n",
    "\n",
    "docs = []\n",
    "with open(\"../data/raw/billsum_sample.json\", \"r\") as f:\n",
    "    for line in f:\n",
    "        docs.append(json.loads(line))\n",
    "\n",
    "# Run summarization on 1 example\n",
    "text = docs[0][\"text\"][:1024]  # BART max length = 1024 tokens\n",
    "summary = summarizer(text, max_length=130, min_length=30, do_sample=False)\n",
    "\n",
    "print(\"Original:\", text[:500], \"\\n---\\nSummary:\", summary[0]['summary_text'])"
   ]
  },
  {
   "cell_type": "code",
   "execution_count": null,
   "id": "fbc5deb4",
   "metadata": {},
   "outputs": [],
   "source": []
  }
 ],
 "metadata": {
  "kernelspec": {
   "display_name": "base",
   "language": "python",
   "name": "python3"
  },
  "language_info": {
   "codemirror_mode": {
    "name": "ipython",
    "version": 3
   },
   "file_extension": ".py",
   "mimetype": "text/x-python",
   "name": "python",
   "nbconvert_exporter": "python",
   "pygments_lexer": "ipython3",
   "version": "3.11.5"
  }
 },
 "nbformat": 4,
 "nbformat_minor": 5
}
